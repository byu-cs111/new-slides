{
 "cells": [
  {
   "cell_type": "markdown",
   "metadata": {},
   "source": [
    "### C++ Vector: resizeable list\n",
    "\n",
    "The C++ Standard Library provides a class `vector` that is an ordered, resizable, array and very similar to Python's `list`\n",
    "\n",
    "You must import this class in C++ style (at the top of your file):\n",
    "`#include <vector>`\n",
    "\n",
    "Since the `vector` class is in the Standard Library, you need to use `std::` before the name `vector`\n",
    "\n",
    "```c++\n",
    "std::vector list = new std::vector(5);  // 5 is the initial capacity, but it will grow automatically\n",
    "```"
   ]
  }
 ],
 "metadata": {
  "language_info": {
   "name": "python"
  },
  "orig_nbformat": 4
 },
 "nbformat": 4,
 "nbformat_minor": 2
}
